{
 "cells": [
  {
   "cell_type": "code",
   "execution_count": 4,
   "metadata": {},
   "outputs": [
    {
     "data": {
      "text/plain": [
       "113.3980924"
      ]
     },
     "execution_count": 4,
     "metadata": {},
     "output_type": "execute_result"
    }
   ],
   "source": [
    "#grams = float(input())\n",
    "grams = 4\n",
    "\n",
    "def ounces(in_grams):\n",
    "    ounces = 28.3495231 * in_grams\n",
    "    return ounces\n",
    "\n",
    "ounces(grams)"
   ]
  },
  {
   "cell_type": "code",
   "execution_count": 6,
   "metadata": {},
   "outputs": [
    {
     "data": {
      "text/plain": [
       "39.0"
      ]
     },
     "execution_count": 6,
     "metadata": {},
     "output_type": "execute_result"
    }
   ],
   "source": [
    "Fahrenheit = 102.2\n",
    "\n",
    "def F_to_C(F):\n",
    "    C = (5 / 9) * (F - 32)\n",
    "    return C\n",
    "\n",
    "F_to_C(Fahrenheit)"
   ]
  },
  {
   "cell_type": "code",
   "execution_count": 8,
   "metadata": {},
   "outputs": [
    {
     "name": "stdout",
     "output_type": "stream",
     "text": [
      "23, 12\n"
     ]
    }
   ],
   "source": [
    "# x + y = 35 (heads)\n",
    "# 2x + 4y = 94 (legs)\n",
    "\n",
    "def solve(numheads, numlegs):\n",
    "    \n",
    "    amount_of_rabbits = (numlegs - 2 * numheads) // 2\n",
    "    amount_of_chicken = numheads - amount_of_rabbits \n",
    "    \n",
    "    return amount_of_chicken, amount_of_rabbits\n",
    "\n",
    "heads = 35\n",
    "legs = 94\n",
    "\n",
    "chick, rabb = solve(heads, legs)\n",
    "print(f'{chick}, {rabb}')"
   ]
  },
  {
   "cell_type": "code",
   "execution_count": 12,
   "metadata": {},
   "outputs": [
    {
     "name": "stdout",
     "output_type": "stream",
     "text": [
      "[313, 1231, 4583, 13, 43]\n"
     ]
    }
   ],
   "source": [
    "def is_prime(number):\n",
    "    if number <= 1:\n",
    "        return False\n",
    "    for i in range(2, number - 1):\n",
    "        if number % i == 0:\n",
    "            return False\n",
    "    return True\n",
    "\n",
    "def filter_prime(numbers):\n",
    "    return [x for x in numbers if is_prime(x)]\n",
    "\n",
    "some_list = [313, 1231, 134, 4583, 12, 13, 43, 22]\n",
    "prime_list = filter_prime(some_list)\n",
    "print(prime_list)"
   ]
  },
  {
   "cell_type": "code",
   "execution_count": 16,
   "metadata": {},
   "outputs": [
    {
     "name": "stdout",
     "output_type": "stream",
     "text": [
      "('a', 'b', 'c')\n",
      "('a', 'c', 'b')\n",
      "('b', 'a', 'c')\n",
      "('b', 'c', 'a')\n",
      "('c', 'a', 'b')\n",
      "('c', 'b', 'a')\n"
     ]
    }
   ],
   "source": [
    "import itertools\n",
    "\n",
    "def permutation_of_str(s):\n",
    "\n",
    "    permutations = itertools.permutations(s)\n",
    "    \n",
    "    for perm in permutations:\n",
    "        print(perm)          \n",
    "\n",
    "mysrting = 'abc'\n",
    "\n",
    "permutation_of_str(mysrting)\n"
   ]
  },
  {
   "cell_type": "code",
   "execution_count": 24,
   "metadata": {},
   "outputs": [
    {
     "name": "stdout",
     "output_type": "stream",
     "text": [
      "ready are We \n"
     ]
    }
   ],
   "source": [
    "def reversed_str(s):\n",
    "    words = s.split()\n",
    "    reversed_string = ''\n",
    "\n",
    "    for i in words[::-1]:\n",
    "        reversed_string += i + ' '\n",
    "\n",
    "    return reversed_string\n",
    "\n",
    "mysrting = input()\n",
    "\n",
    "print(reversed_str(mysrting))"
   ]
  },
  {
   "cell_type": "code",
   "execution_count": 21,
   "metadata": {},
   "outputs": [
    {
     "name": "stdout",
     "output_type": "stream",
     "text": [
      "True\n",
      "False\n",
      "False\n"
     ]
    }
   ],
   "source": [
    "def has_33(nums):\n",
    "    for i in range(len(nums) - 1):\n",
    "        if nums[i] == 3 and nums[i+1] == 3:\n",
    "            return True\n",
    "    return False\n",
    "        \n",
    "print(has_33([1, 3, 3])) \n",
    "\n",
    "print(has_33([1, 3, 1, 3])) \n",
    "\n",
    "print(has_33([3, 1, 3])) "
   ]
  },
  {
   "cell_type": "code",
   "execution_count": 30,
   "metadata": {},
   "outputs": [
    {
     "name": "stdout",
     "output_type": "stream",
     "text": [
      "True\n",
      "False\n",
      "False\n"
     ]
    }
   ],
   "source": [
    "def spy_game(nums):\n",
    "   \n",
    "    target = [0, 0, 7]\n",
    "    \n",
    "    for i in range(len(nums) - 1):\n",
    "        if nums[i:i+3] == target:\n",
    "            return True\n",
    "    \n",
    "    return False\n",
    "\n",
    "print(spy_game([1, 2, 4, 0, 0, 7, 5]))  \n",
    "print(spy_game([1, 0, 2, 4, 0, 5, 7]))  \n",
    "print(spy_game([1, 7, 2, 0, 4, 5, 0]))  \n"
   ]
  }
 ],
 "metadata": {
  "kernelspec": {
   "display_name": "Python 3",
   "language": "python",
   "name": "python3"
  },
  "language_info": {
   "codemirror_mode": {
    "name": "ipython",
    "version": 3
   },
   "file_extension": ".py",
   "mimetype": "text/x-python",
   "name": "python",
   "nbconvert_exporter": "python",
   "pygments_lexer": "ipython3",
   "version": "3.13.1"
  }
 },
 "nbformat": 4,
 "nbformat_minor": 2
}
