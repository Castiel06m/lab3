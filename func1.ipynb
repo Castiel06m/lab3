{
 "cells": [
  {
   "cell_type": "code",
   "execution_count": 4,
   "metadata": {},
   "outputs": [
    {
     "data": {
      "text/plain": [
       "113.3980924"
      ]
     },
     "execution_count": 4,
     "metadata": {},
     "output_type": "execute_result"
    }
   ],
   "source": [
    "#grams = float(input())\n",
    "grams = 4\n",
    "\n",
    "def ounces(in_grams):\n",
    "    ounces = 28.3495231 * in_grams\n",
    "    return ounces\n",
    "\n",
    "ounces(grams)"
   ]
  },
  {
   "cell_type": "code",
   "execution_count": 6,
   "metadata": {},
   "outputs": [
    {
     "data": {
      "text/plain": [
       "39.0"
      ]
     },
     "execution_count": 6,
     "metadata": {},
     "output_type": "execute_result"
    }
   ],
   "source": [
    "Fahrenheit = 102.2\n",
    "\n",
    "def F_to_C(F):\n",
    "    C = (5 / 9) * (F - 32)\n",
    "    return C\n",
    "\n",
    "F_to_C(Fahrenheit)"
   ]
  },
  {
   "cell_type": "code",
   "execution_count": 8,
   "metadata": {},
   "outputs": [
    {
     "name": "stdout",
     "output_type": "stream",
     "text": [
      "23, 12\n"
     ]
    }
   ],
   "source": [
    "# x + y = 35 (heads)\n",
    "# 2x + 4y = 94 (legs)\n",
    "\n",
    "def solve(numheads, numlegs):\n",
    "    \n",
    "    amount_of_rabbits = (numlegs - 2 * numheads) // 2\n",
    "    amount_of_chicken = numheads - amount_of_rabbits \n",
    "    \n",
    "    return amount_of_chicken, amount_of_rabbits\n",
    "\n",
    "heads = 35\n",
    "legs = 94\n",
    "\n",
    "chick, rabb = solve(heads, legs)\n",
    "print(f'{chick}, {rabb}')"
   ]
  },
  {
   "cell_type": "code",
   "execution_count": 12,
   "metadata": {},
   "outputs": [
    {
     "name": "stdout",
     "output_type": "stream",
     "text": [
      "[313, 1231, 4583, 13, 43]\n"
     ]
    }
   ],
   "source": [
    "def is_prime(number):\n",
    "    if number <= 1:\n",
    "        return False\n",
    "    for i in range(2, number - 1):\n",
    "        if number % i == 0:\n",
    "            return False\n",
    "    return True\n",
    "\n",
    "def filter_prime(numbers):\n",
    "    return [x for x in numbers if is_prime(x)]\n",
    "\n",
    "some_list = [313, 1231, 134, 4583, 12, 13, 43, 22]\n",
    "prime_list = filter_prime(some_list)\n",
    "print(prime_list)"
   ]
  },
  {
   "cell_type": "code",
   "execution_count": 16,
   "metadata": {},
   "outputs": [
    {
     "name": "stdout",
     "output_type": "stream",
     "text": [
      "('a', 'b', 'c')\n",
      "('a', 'c', 'b')\n",
      "('b', 'a', 'c')\n",
      "('b', 'c', 'a')\n",
      "('c', 'a', 'b')\n",
      "('c', 'b', 'a')\n"
     ]
    }
   ],
   "source": [
    "import itertools\n",
    "\n",
    "def permutation_of_str(s):\n",
    "\n",
    "    permutations = itertools.permutations(s)\n",
    "    \n",
    "    for perm in permutations:\n",
    "        print(perm)          \n",
    "\n",
    "mysrting = 'abc'\n",
    "\n",
    "permutation_of_str(mysrting)\n"
   ]
  },
  {
   "cell_type": "code",
   "execution_count": 24,
   "metadata": {},
   "outputs": [
    {
     "name": "stdout",
     "output_type": "stream",
     "text": [
      "ready are We \n"
     ]
    }
   ],
   "source": [
    "def reversed_str(s):\n",
    "    words = s.split()\n",
    "    reversed_string = ''\n",
    "\n",
    "    for i in words[::-1]:\n",
    "        reversed_string += i + ' '\n",
    "\n",
    "    return reversed_string\n",
    "\n",
    "mysrting = input()\n",
    "\n",
    "print(reversed_str(mysrting))"
   ]
  },
  {
   "cell_type": "code",
   "execution_count": 21,
   "metadata": {},
   "outputs": [
    {
     "name": "stdout",
     "output_type": "stream",
     "text": [
      "True\n",
      "False\n",
      "False\n"
     ]
    }
   ],
   "source": [
    "def has_33(nums):\n",
    "    for i in range(len(nums) - 1):\n",
    "        if nums[i] == 3 and nums[i+1] == 3:\n",
    "            return True\n",
    "    return False\n",
    "        \n",
    "print(has_33([1, 3, 3])) \n",
    "\n",
    "print(has_33([1, 3, 1, 3])) \n",
    "\n",
    "print(has_33([3, 1, 3])) "
   ]
  },
  {
   "cell_type": "code",
   "execution_count": 30,
   "metadata": {},
   "outputs": [
    {
     "name": "stdout",
     "output_type": "stream",
     "text": [
      "True\n",
      "False\n",
      "False\n"
     ]
    }
   ],
   "source": [
    "def spy_game(nums):\n",
    "   \n",
    "    target = [0, 0, 7]\n",
    "    \n",
    "    for i in range(len(nums) - 1):\n",
    "        if nums[i:i+3] == target:\n",
    "            return True\n",
    "    \n",
    "    return False\n",
    "\n",
    "print(spy_game([1, 2, 4, 0, 0, 7, 5]))  \n",
    "print(spy_game([1, 0, 2, 4, 0, 5, 7]))  \n",
    "print(spy_game([1, 7, 2, 0, 4, 5, 0]))  \n"
   ]
  },
  {
   "cell_type": "code",
   "execution_count": 34,
   "metadata": {},
   "outputs": [
    {
     "data": {
      "text/plain": [
       "268.07466666666664"
      ]
     },
     "execution_count": 34,
     "metadata": {},
     "output_type": "execute_result"
    }
   ],
   "source": [
    "def volume(radius):\n",
    "    volume = (4/3) * 3.1415 * radius**3\n",
    "    return volume\n",
    "\n",
    "radius = 4\n",
    "volume(radius)"
   ]
  },
  {
   "cell_type": "code",
   "execution_count": 35,
   "metadata": {},
   "outputs": [
    {
     "name": "stdout",
     "output_type": "stream",
     "text": [
      "[65, 123, 53, 98, 59, 1, 90]\n"
     ]
    }
   ],
   "source": [
    "def unique_list(mylist):\n",
    "    \n",
    "    newlist = []\n",
    "    for i in mylist:\n",
    "        if i not in newlist:\n",
    "            newlist.append(i)\n",
    "    return(newlist)\n",
    "\n",
    "mylist = [65, 123, 53, 123, 123 , 123, 98, 59, 53, 53, 1, 90]\n",
    "print(unique_list(mylist))"
   ]
  },
  {
   "cell_type": "code",
   "execution_count": 48,
   "metadata": {},
   "outputs": [
    {
     "name": "stdout",
     "output_type": "stream",
     "text": [
      "True\n",
      "False\n"
     ]
    }
   ],
   "source": [
    "def is_polindrome(s):\n",
    "    if s == s[::-1]:\n",
    "        return True\n",
    "    else:\n",
    "        return False\n",
    "    \n",
    "mys = 'abba'\n",
    "mys2 = 'notpalindrome'\n",
    "print(is_polindrome(mys))\n",
    "print(is_polindrome(mys2))"
   ]
  },
  {
   "cell_type": "code",
   "execution_count": 56,
   "metadata": {},
   "outputs": [
    {
     "name": "stdout",
     "output_type": "stream",
     "text": [
      "**\n",
      "******\n",
      "*\n",
      "*******\n",
      "*********\n",
      "None\n"
     ]
    }
   ],
   "source": [
    "def histograme(nums):\n",
    "    for i in nums:\n",
    "        print('*' * i)\n",
    "\n",
    "print(histograme([2, 6, 1, 7, 9]))"
   ]
  },
  {
   "cell_type": "code",
   "execution_count": 57,
   "metadata": {},
   "outputs": [
    {
     "name": "stdout",
     "output_type": "stream",
     "text": [
      "Hello! What is your name?\n",
      "Well, Miroslav, I am thinking of a number between 1 and 20.\n",
      "Take a guess.\n",
      "Your guess is too low.\n",
      "Take a guess.\n",
      "Your guess is too low.\n",
      "Take a guess.\n",
      "Your guess is too low.\n",
      "Take a guess.\n",
      "Your guess is too high.\n",
      "Take a guess.\n",
      "Good job, Miroslav! You guessed my number in 5 guesses!\n"
     ]
    }
   ],
   "source": [
    "import random\n",
    "\n",
    "def guess_the_number():\n",
    "    print(\"Hello! What is your name?\")\n",
    "    name = input()\n",
    "  \n",
    "    number_to_guess = random.randint(1, 20)\n",
    "\n",
    "    print(f\"Well, {name}, I am thinking of a number between 1 and 20.\")\n",
    "\n",
    "    guesses = 0\n",
    "\n",
    "    while True:\n",
    "        print(\"Take a guess.\")\n",
    "        guess = int(input())  \n",
    "        \n",
    "        guesses += 1  \n",
    "        \n",
    "        if guess < number_to_guess:\n",
    "            print(\"Your guess is too low.\")\n",
    "        elif guess > number_to_guess:\n",
    "            print(\"Your guess is too high.\")\n",
    "        else:\n",
    "            print(f\"Good job, {name}! You guessed my number in {guesses} guesses!\")\n",
    "            break  \n",
    "\n",
    "guess_the_number()\n"
   ]
  }
 ],
 "metadata": {
  "kernelspec": {
   "display_name": "Python 3",
   "language": "python",
   "name": "python3"
  },
  "language_info": {
   "codemirror_mode": {
    "name": "ipython",
    "version": 3
   },
   "file_extension": ".py",
   "mimetype": "text/x-python",
   "name": "python",
   "nbconvert_exporter": "python",
   "pygments_lexer": "ipython3",
   "version": "3.13.1"
  }
 },
 "nbformat": 4,
 "nbformat_minor": 2
}
