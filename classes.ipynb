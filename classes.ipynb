{
 "cells": [
  {
   "cell_type": "code",
   "execution_count": 12,
   "metadata": {},
   "outputs": [
    {
     "name": "stdout",
     "output_type": "stream",
     "text": [
      "MAKE ME AN UPPER STRING\n"
     ]
    }
   ],
   "source": [
    "# Classes 1)\n",
    "\n",
    "\n",
    "class StringChanges:\n",
    "\n",
    "    def getString(self):\n",
    "        self.mystring = input()\n",
    "\n",
    "    def printString(self):\n",
    "        print(self.mystring.upper())\n",
    "\n",
    "ss = StringChanges()\n",
    "\n",
    "ss.getString()\n",
    "ss.printString()\n",
    "    "
   ]
  },
  {
   "cell_type": "code",
   "execution_count": 19,
   "metadata": {},
   "outputs": [
    {
     "name": "stdout",
     "output_type": "stream",
     "text": [
      "Default area of shape is 0\n",
      "Area of square is  961\n"
     ]
    }
   ],
   "source": [
    "#Classes 2)\n",
    "\n",
    "class Shape:\n",
    "    def __init__(self):\n",
    "        pass\n",
    "\n",
    "    def area(self):\n",
    "        print(\"Default area of shape is 0\")\n",
    "\n",
    "class Square(Shape):\n",
    "    def __init__(self, length):\n",
    "        self.length = length\n",
    "\n",
    "    def area(self):\n",
    "        print(\"Area of square is \", self.length**2)\n",
    "\n",
    "myshape = Shape()\n",
    "mysquare = Square(31)\n",
    "\n",
    "myshape.area()\n",
    "mysquare.area()"
   ]
  },
  {
   "cell_type": "code",
   "execution_count": 22,
   "metadata": {},
   "outputs": [
    {
     "name": "stdout",
     "output_type": "stream",
     "text": [
      "Default area of shape is 0\n",
      "Area of a rectangle is 55\n"
     ]
    }
   ],
   "source": [
    "#Classes 3)\n",
    "\n",
    "class Shape:\n",
    "    def __init__(self):\n",
    "        pass\n",
    "\n",
    "    def area(self):\n",
    "        print(\"Default area of shape is 0\")\n",
    "\n",
    "class Restangle(Shape):\n",
    "    def __init__(self, length, width):\n",
    "        self.length = length\n",
    "        self.width = width\n",
    "    \n",
    "    def area(self):\n",
    "        print(\"Area of a rectangle is\", self.length*self.width)\n",
    "\n",
    "myshape = Shape()\n",
    "myrectangle = Restangle(11, 5)\n",
    "\n",
    "myshape.area()\n",
    "myrectangle.area()\n"
   ]
  },
  {
   "cell_type": "code",
   "execution_count": 11,
   "metadata": {},
   "outputs": [
    {
     "name": "stdout",
     "output_type": "stream",
     "text": [
      "(7,8)\n",
      "(9,10)\n",
      "2.8284271247461903\n",
      "Moved to (8,11)\n",
      "Moved to (13,17)\n",
      "7.810249675906654\n"
     ]
    }
   ],
   "source": [
    "#Classes 4)\n",
    " \n",
    "import math\n",
    "\n",
    "class Point:\n",
    "    def __init__(self, x, y):\n",
    "        self.x = x\n",
    "        self.y = y\n",
    "    \n",
    "    def show(self):\n",
    "        print(f'({self.x},{self.y})')\n",
    "    \n",
    "    def move(self, m_x, m_y):\n",
    "        self.x += m_x\n",
    "        self.y += m_y\n",
    "        print(f'Moved to ({self.x},{self.y})')\n",
    "\n",
    "    def dist(self, some_point):\n",
    "        distance = math.sqrt((self.x - some_point.x)**2 + (self.y - some_point.y)**2)\n",
    "        return distance\n",
    "        \n",
    "p1 = Point(7, 8)\n",
    "p2 = Point(9, 10)\n",
    "\n",
    "p1.show()\n",
    "p2.show()\n",
    "\n",
    "distance = p1.dist(p2)\n",
    "print(distance)\n",
    "\n",
    "p1.move(1, 3)\n",
    "p2.move(4, 7)\n",
    "\n",
    "distance = p1.dist(p2)\n",
    "print(distance)\n",
    "\n"
   ]
  },
  {
   "cell_type": "code",
   "execution_count": 17,
   "metadata": {},
   "outputs": [
    {
     "name": "stdout",
     "output_type": "stream",
     "text": [
      "Current balance is 10000\n",
      "Your name is Miroslav\n",
      "Current balance is 15000\n",
      "100 was withdrawn. Your balance is 14900\n",
      "Current balance is 14900\n",
      "You cannot do that, because your balance is lower\n"
     ]
    }
   ],
   "source": [
    "#Classes 5)\n",
    "\n",
    "class Account:\n",
    "\n",
    "    \n",
    "\n",
    "    def __init__(self, owner, balance):\n",
    "        self.owner = owner\n",
    "        self.balance = balance\n",
    "\n",
    "    def deposit(self, money):\n",
    "        if money > 0:\n",
    "            self.balance += money\n",
    "    \n",
    "    def withdraw(self, amount):\n",
    "        if amount <= self.balance:\n",
    "            self.balance -= amount\n",
    "            print(f'{amount} was withdrawn. Your balance is {self.balance}')\n",
    "        else:\n",
    "            print(\"You cannot do that, because your balance is lower\")\n",
    "\n",
    "    def showname(self):\n",
    "        print(f'Your name is {self.owner}')\n",
    "\n",
    "    def show(self):\n",
    "        print(f'Current balance is {self.balance}')       # To keep track the balance\n",
    "    \n",
    "\n",
    "myaccount = Account('Miroslav', 10000)\n",
    "myaccount.show()\n",
    "myaccount.showname()\n",
    "\n",
    "myaccount.deposit(5000)\n",
    "myaccount.show()\n",
    "\n",
    "myaccount.withdraw(100)\n",
    "myaccount.show()\n",
    "\n",
    "myaccount.withdraw(931232)\n",
    "\n"
   ]
  },
  {
   "cell_type": "code",
   "execution_count": 22,
   "metadata": {},
   "outputs": [
    {
     "name": "stdout",
     "output_type": "stream",
     "text": [
      "[31, 13, 1231]\n"
     ]
    }
   ],
   "source": [
    "#Classes 6)\n",
    "\n",
    "\n",
    "prime = lambda x: x > 1 and all(x % i != 0 for i in range(2, (x - 1)))\n",
    "\n",
    "some_list = [1, 31, 12, 13, 532, 1231, 4531, 123]\n",
    "\n",
    "prime_numbers = list(filter(prime, some_list))\n",
    "print(prime_numbers)\n"
   ]
  }
 ],
 "metadata": {
  "kernelspec": {
   "display_name": "Python 3",
   "language": "python",
   "name": "python3"
  },
  "language_info": {
   "codemirror_mode": {
    "name": "ipython",
    "version": 3
   },
   "file_extension": ".py",
   "mimetype": "text/x-python",
   "name": "python",
   "nbconvert_exporter": "python",
   "pygments_lexer": "ipython3",
   "version": "3.13.1"
  }
 },
 "nbformat": 4,
 "nbformat_minor": 2
}
